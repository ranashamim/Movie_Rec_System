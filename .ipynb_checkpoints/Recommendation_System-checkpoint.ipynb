{
 "cells": [
  {
   "cell_type": "markdown",
   "id": "c407885f",
   "metadata": {},
   "source": [
    "# Movie Recommendations"
   ]
  },
  {
   "cell_type": "markdown",
   "id": "8698fbd1",
   "metadata": {},
   "source": [
    "### Import Labraries"
   ]
  },
  {
   "cell_type": "code",
   "execution_count": 1,
   "id": "a6bac4e2",
   "metadata": {},
   "outputs": [
    {
     "name": "stderr",
     "output_type": "stream",
     "text": [
      "2024-07-29 10:41:33.896086: I external/local_xla/xla/tsl/cuda/cudart_stub.cc:32] Could not find cuda drivers on your machine, GPU will not be used.\n",
      "2024-07-29 10:41:34.052158: I external/local_xla/xla/tsl/cuda/cudart_stub.cc:32] Could not find cuda drivers on your machine, GPU will not be used.\n",
      "2024-07-29 10:41:34.289708: E external/local_xla/xla/stream_executor/cuda/cuda_fft.cc:485] Unable to register cuFFT factory: Attempting to register factory for plugin cuFFT when one has already been registered\n",
      "2024-07-29 10:41:34.558997: E external/local_xla/xla/stream_executor/cuda/cuda_dnn.cc:8454] Unable to register cuDNN factory: Attempting to register factory for plugin cuDNN when one has already been registered\n",
      "2024-07-29 10:41:34.633594: E external/local_xla/xla/stream_executor/cuda/cuda_blas.cc:1452] Unable to register cuBLAS factory: Attempting to register factory for plugin cuBLAS when one has already been registered\n",
      "2024-07-29 10:41:35.058251: I tensorflow/core/platform/cpu_feature_guard.cc:210] This TensorFlow binary is optimized to use available CPU instructions in performance-critical operations.\n",
      "To enable the following instructions: AVX2 FMA, in other operations, rebuild TensorFlow with the appropriate compiler flags.\n",
      "2024-07-29 10:41:40.527597: W tensorflow/compiler/tf2tensorrt/utils/py_utils.cc:38] TF-TRT Warning: Could not find TensorRT\n"
     ]
    }
   ],
   "source": [
    "import pandas as pd\n",
    "import numpy as np\n",
    "import sys\n",
    "sys.path.append('/home/hooshmand/Documents/Git/myenv/lib/python3.11/site-packages')\n",
    "import tensorflow as tf\n",
    "import matplotlib.pyplot as plt\n",
    "\n",
    "from datetime import datetime\n",
    "\n",
    "now = datetime.now()\n",
    "\n",
    "from sklearn import preprocessing as pp\n",
    "from sklearn.model_selection import train_test_split\n",
    "from sklearn.model_selection import StratifiedKFold\n",
    "from sklearn.metrics import log_loss\n",
    "from sklearn.metrics import precision_recall_curve, average_precision_score\n",
    "from sklearn.metrics import roc_curve, auc, roc_auc_score, mean_squared_error\n",
    "\n",
    "\n",
    "import tensorflow as tf\n",
    "import keras\n",
    "\n",
    "from tensorflow.keras.models import Sequential, Model\n",
    "from tensorflow.keras.layers import Dense, Dropout\n",
    "from tensorflow.keras.layers import BatchNormalization, Input, Lambda\n",
    "from tensorflow.keras.layers import Embedding, Flatten, dot\n",
    "from tensorflow.keras import regularizers\n",
    "from tensorflow.keras.losses import mse, binary_crossentropy\n"
   ]
  },
  {
   "cell_type": "markdown",
   "id": "72c80bda",
   "metadata": {},
   "source": [
    "### Load Data"
   ]
  },
  {
   "cell_type": "code",
   "execution_count": 2,
   "id": "e5529fee",
   "metadata": {},
   "outputs": [],
   "source": [
    "rating_data = pd.read_csv('/home/hooshmand/Documents/Git/data/rating.csv')\n",
    "movie_data = pd.read_csv('/home/hooshmand/Documents/Git/data/movie.csv')"
   ]
  },
  {
   "cell_type": "code",
   "execution_count": 3,
   "id": "2a29ce81",
   "metadata": {},
   "outputs": [
    {
     "data": {
      "text/plain": [
       "(20000263, 4)"
      ]
     },
     "execution_count": 3,
     "metadata": {},
     "output_type": "execute_result"
    }
   ],
   "source": [
    "rating_data.shape\n"
   ]
  },
  {
   "cell_type": "code",
   "execution_count": 4,
   "id": "acf6b555",
   "metadata": {},
   "outputs": [
    {
     "data": {
      "text/html": [
       "<div>\n",
       "<style scoped>\n",
       "    .dataframe tbody tr th:only-of-type {\n",
       "        vertical-align: middle;\n",
       "    }\n",
       "\n",
       "    .dataframe tbody tr th {\n",
       "        vertical-align: top;\n",
       "    }\n",
       "\n",
       "    .dataframe thead th {\n",
       "        text-align: right;\n",
       "    }\n",
       "</style>\n",
       "<table border=\"1\" class=\"dataframe\">\n",
       "  <thead>\n",
       "    <tr style=\"text-align: right;\">\n",
       "      <th></th>\n",
       "      <th>userId</th>\n",
       "      <th>movieId</th>\n",
       "      <th>rating</th>\n",
       "      <th>timestamp</th>\n",
       "    </tr>\n",
       "  </thead>\n",
       "  <tbody>\n",
       "    <tr>\n",
       "      <th>0</th>\n",
       "      <td>1</td>\n",
       "      <td>2</td>\n",
       "      <td>3.5</td>\n",
       "      <td>2005-04-02 23:53:47</td>\n",
       "    </tr>\n",
       "    <tr>\n",
       "      <th>1</th>\n",
       "      <td>1</td>\n",
       "      <td>29</td>\n",
       "      <td>3.5</td>\n",
       "      <td>2005-04-02 23:31:16</td>\n",
       "    </tr>\n",
       "    <tr>\n",
       "      <th>2</th>\n",
       "      <td>1</td>\n",
       "      <td>32</td>\n",
       "      <td>3.5</td>\n",
       "      <td>2005-04-02 23:33:39</td>\n",
       "    </tr>\n",
       "    <tr>\n",
       "      <th>3</th>\n",
       "      <td>1</td>\n",
       "      <td>47</td>\n",
       "      <td>3.5</td>\n",
       "      <td>2005-04-02 23:32:07</td>\n",
       "    </tr>\n",
       "    <tr>\n",
       "      <th>4</th>\n",
       "      <td>1</td>\n",
       "      <td>50</td>\n",
       "      <td>3.5</td>\n",
       "      <td>2005-04-02 23:29:40</td>\n",
       "    </tr>\n",
       "  </tbody>\n",
       "</table>\n",
       "</div>"
      ],
      "text/plain": [
       "   userId  movieId  rating            timestamp\n",
       "0       1        2     3.5  2005-04-02 23:53:47\n",
       "1       1       29     3.5  2005-04-02 23:31:16\n",
       "2       1       32     3.5  2005-04-02 23:33:39\n",
       "3       1       47     3.5  2005-04-02 23:32:07\n",
       "4       1       50     3.5  2005-04-02 23:29:40"
      ]
     },
     "execution_count": 4,
     "metadata": {},
     "output_type": "execute_result"
    }
   ],
   "source": [
    "rating_data.head()"
   ]
  },
  {
   "cell_type": "markdown",
   "id": "682305a0",
   "metadata": {},
   "source": [
    "### Convert fields into appropriate data types"
   ]
  },
  {
   "cell_type": "code",
   "execution_count": 5,
   "id": "975538fe",
   "metadata": {},
   "outputs": [],
   "source": [
    "rating_data.userId = rating_data.userId.astype(str).astype(int)\n",
    "rating_data.movieId = rating_data.movieId.astype(str).astype(int)\n",
    "rating_data.rating = rating_data.rating.astype(str).astype(float)\n",
    "rating_data.timestamp = rating_data.timestamp.apply(lambda x: now.strftime(\"%m/%d/%Y, %H:%M:%S\"))"
   ]
  },
  {
   "cell_type": "code",
   "execution_count": 6,
   "id": "5928e8ae",
   "metadata": {},
   "outputs": [],
   "source": [
    "n_users = rating_data.userId.unique().shape[0]\n",
    "n_movies = rating_data.movieId.unique().shape[0]\n",
    "max_rate = rating_data.rating.max()\n",
    "min_rate = rating_data.rating.min()\n",
    "n_rates_firstMovie = rating_data.movieId[rating_data.movieId==1].groupby(rating_data.rating).count()\n",
    "mean_rates_firstMovie = rating_data.rating[rating_data.movieId==1].mean()"
   ]
  },
  {
   "cell_type": "code",
   "execution_count": 7,
   "id": "4b9227e3",
   "metadata": {},
   "outputs": [
    {
     "name": "stdout",
     "output_type": "stream",
     "text": [
      "Number of users:  138493\n",
      "Number of movies:  26744\n",
      "Max of ratings:  5.0 , and Min of ratings:  0.5\n",
      "Rating details for the first movie: \n",
      " rating\n",
      "0.5      178\n",
      "1.0      506\n",
      "1.5      266\n",
      "2.0     1440\n",
      "2.5     1060\n",
      "3.0     8751\n",
      "3.5     4200\n",
      "4.0    17136\n",
      "4.5     3890\n",
      "5.0    12268\n",
      "Name: movieId, dtype: int64\n",
      "Average number of ratings for the first movie:  3.921239561324077\n"
     ]
    }
   ],
   "source": [
    "print('Number of users: ', n_users)\n",
    "print('Number of movies: ', n_movies)\n",
    "print('Max of ratings: ', max_rate, ', and Min of ratings: ', min_rate)\n",
    "print('Rating details for the first movie: \\n', n_rates_firstMovie)\n",
    "print('Average number of ratings for the first movie: ', mean_rates_firstMovie)"
   ]
  },
  {
   "cell_type": "markdown",
   "id": "3ec54bb8",
   "metadata": {},
   "source": [
    "### Reduce size of Data"
   ]
  },
  {
   "cell_type": "code",
   "execution_count": 8,
   "id": "8e6e21ed",
   "metadata": {},
   "outputs": [
    {
     "data": {
      "text/html": [
       "<div>\n",
       "<style scoped>\n",
       "    .dataframe tbody tr th:only-of-type {\n",
       "        vertical-align: middle;\n",
       "    }\n",
       "\n",
       "    .dataframe tbody tr th {\n",
       "        vertical-align: top;\n",
       "    }\n",
       "\n",
       "    .dataframe thead th {\n",
       "        text-align: right;\n",
       "    }\n",
       "</style>\n",
       "<table border=\"1\" class=\"dataframe\">\n",
       "  <thead>\n",
       "    <tr style=\"text-align: right;\">\n",
       "      <th></th>\n",
       "      <th>userId</th>\n",
       "      <th>movieId</th>\n",
       "      <th>rating</th>\n",
       "      <th>timestamp</th>\n",
       "    </tr>\n",
       "  </thead>\n",
       "  <tbody>\n",
       "    <tr>\n",
       "      <th>0</th>\n",
       "      <td>1</td>\n",
       "      <td>2</td>\n",
       "      <td>3.5</td>\n",
       "      <td>07/29/2024, 10:41:47</td>\n",
       "    </tr>\n",
       "    <tr>\n",
       "      <th>1</th>\n",
       "      <td>1</td>\n",
       "      <td>29</td>\n",
       "      <td>3.5</td>\n",
       "      <td>07/29/2024, 10:41:47</td>\n",
       "    </tr>\n",
       "    <tr>\n",
       "      <th>2</th>\n",
       "      <td>1</td>\n",
       "      <td>32</td>\n",
       "      <td>3.5</td>\n",
       "      <td>07/29/2024, 10:41:47</td>\n",
       "    </tr>\n",
       "    <tr>\n",
       "      <th>3</th>\n",
       "      <td>1</td>\n",
       "      <td>47</td>\n",
       "      <td>3.5</td>\n",
       "      <td>07/29/2024, 10:41:47</td>\n",
       "    </tr>\n",
       "    <tr>\n",
       "      <th>4</th>\n",
       "      <td>1</td>\n",
       "      <td>50</td>\n",
       "      <td>3.5</td>\n",
       "      <td>07/29/2024, 10:41:47</td>\n",
       "    </tr>\n",
       "    <tr>\n",
       "      <th>...</th>\n",
       "      <td>...</td>\n",
       "      <td>...</td>\n",
       "      <td>...</td>\n",
       "      <td>...</td>\n",
       "    </tr>\n",
       "    <tr>\n",
       "      <th>20000243</th>\n",
       "      <td>138493</td>\n",
       "      <td>53996</td>\n",
       "      <td>4.5</td>\n",
       "      <td>07/29/2024, 10:41:47</td>\n",
       "    </tr>\n",
       "    <tr>\n",
       "      <th>20000249</th>\n",
       "      <td>138493</td>\n",
       "      <td>59315</td>\n",
       "      <td>4.0</td>\n",
       "      <td>07/29/2024, 10:41:47</td>\n",
       "    </tr>\n",
       "    <tr>\n",
       "      <th>20000252</th>\n",
       "      <td>138493</td>\n",
       "      <td>60069</td>\n",
       "      <td>4.0</td>\n",
       "      <td>07/29/2024, 10:41:47</td>\n",
       "    </tr>\n",
       "    <tr>\n",
       "      <th>20000258</th>\n",
       "      <td>138493</td>\n",
       "      <td>68954</td>\n",
       "      <td>4.5</td>\n",
       "      <td>07/29/2024, 10:41:47</td>\n",
       "    </tr>\n",
       "    <tr>\n",
       "      <th>20000261</th>\n",
       "      <td>138493</td>\n",
       "      <td>70286</td>\n",
       "      <td>5.0</td>\n",
       "      <td>07/29/2024, 10:41:47</td>\n",
       "    </tr>\n",
       "  </tbody>\n",
       "</table>\n",
       "<p>12840344 rows × 4 columns</p>\n",
       "</div>"
      ],
      "text/plain": [
       "          userId  movieId  rating             timestamp\n",
       "0              1        2     3.5  07/29/2024, 10:41:47\n",
       "1              1       29     3.5  07/29/2024, 10:41:47\n",
       "2              1       32     3.5  07/29/2024, 10:41:47\n",
       "3              1       47     3.5  07/29/2024, 10:41:47\n",
       "4              1       50     3.5  07/29/2024, 10:41:47\n",
       "...          ...      ...     ...                   ...\n",
       "20000243  138493    53996     4.5  07/29/2024, 10:41:47\n",
       "20000249  138493    59315     4.0  07/29/2024, 10:41:47\n",
       "20000252  138493    60069     4.0  07/29/2024, 10:41:47\n",
       "20000258  138493    68954     4.5  07/29/2024, 10:41:47\n",
       "20000261  138493    70286     5.0  07/29/2024, 10:41:47\n",
       "\n",
       "[12840344 rows x 4 columns]"
      ]
     },
     "execution_count": 8,
     "metadata": {},
     "output_type": "execute_result"
    }
   ],
   "source": [
    "movieIndex = rating_data.groupby(\"movieId\").count().sort_values(by= \"rating\",ascending=False)[0:1000].index\n",
    "new_rating_data1 = rating_data[rating_data.movieId.isin(movieIndex)]\n",
    "new_rating_data1"
   ]
  },
  {
   "cell_type": "code",
   "execution_count": 9,
   "id": "703275a6",
   "metadata": {},
   "outputs": [
    {
     "data": {
      "text/plain": [
       "userId       90213\n",
       "movieId      90213\n",
       "rating       90213\n",
       "timestamp    90213\n",
       "dtype: int64"
      ]
     },
     "execution_count": 9,
     "metadata": {},
     "output_type": "execute_result"
    }
   ],
   "source": [
    "userIndex = new_rating_data1.groupby(\"userId\").count().sort_values(by= \\\n",
    "\"rating\",ascending=False).sample(n=1000, random_state=2018).index\n",
    "new_rating_data = new_rating_data1[new_rating_data1.userId.isin(userIndex)]\n",
    "new_rating_data.count()"
   ]
  },
  {
   "cell_type": "code",
   "execution_count": 10,
   "id": "a2b2fad7",
   "metadata": {},
   "outputs": [],
   "source": [
    "movies = new_rating_data.movieId.unique()\n",
    "moviesDF = pd.DataFrame(data=movies,columns=['originalMovieId'])\n",
    "moviesDF['newMovieId'] = moviesDF.index+1\n",
    "users = new_rating_data.userId.unique()\n",
    "usersDF = pd.DataFrame(data=users,columns=['originalUserId'])\n",
    "usersDF['newUserId'] = usersDF.index+1\n",
    "new_rating_data = new_rating_data.merge(moviesDF,left_on='movieId', \\\n",
    "right_on='originalMovieId')\n",
    "new_rating_data.drop(labels='originalMovieId', axis=1, inplace=True)\n",
    "new_rating_data = new_rating_data.merge(usersDF,left_on='userId', \\\n",
    "right_on='originalUserId')\n",
    "new_rating_data.drop(labels='originalUserId', axis=1, inplace=True)"
   ]
  },
  {
   "cell_type": "code",
   "execution_count": 11,
   "id": "11b9b426",
   "metadata": {},
   "outputs": [
    {
     "name": "stdout",
     "output_type": "stream",
     "text": [
      "Number of users:  1000\n",
      "Number of movies:  1000\n"
     ]
    }
   ],
   "source": [
    "n_users = new_rating_data.userId.unique().shape[0]\n",
    "n_movies = new_rating_data.movieId.unique().shape[0]\n",
    "print('Number of users: ', n_users)\n",
    "print('Number of movies: ', n_movies)"
   ]
  },
  {
   "cell_type": "markdown",
   "id": "494bb36d",
   "metadata": {},
   "source": [
    "### Data Visualization"
   ]
  },
  {
   "cell_type": "code",
   "execution_count": 12,
   "id": "23254c70",
   "metadata": {},
   "outputs": [
    {
     "data": {
      "image/png": "[encoded data removed]",
      "text/plain": [
       "<Figure size 640x480 with 1 Axes>"
      ]
     },
     "metadata": {},
     "output_type": "display_data"
    }
   ],
   "source": [
    "genres = movie_data.genres.str.split('|', expand=True).stack().value_counts()\n",
    "plt.bar(genres.index, genres.values)\n",
    "plt.xticks(rotation=90)\n",
    "plt.xlabel('Genre')\n",
    "plt.ylabel('Number of Movies')\n",
    "plt.title('Movie Genres')\n",
    "plt.show()"
   ]
  },
  {
   "cell_type": "code",
   "execution_count": 13,
   "id": "fd7f0c90",
   "metadata": {},
   "outputs": [
    {
     "data": {
      "text/plain": [
       "movieId\n",
       "1        4.875000\n",
       "2        4.960000\n",
       "3        4.928571\n",
       "5        5.000000\n",
       "6        4.846939\n",
       "           ...   \n",
       "78499    4.800000\n",
       "79132    4.750000\n",
       "80463    4.772727\n",
       "81591    4.789474\n",
       "81845    4.735294\n",
       "Name: rating, Length: 992, dtype: float64"
      ]
     },
     "execution_count": 13,
     "metadata": {},
     "output_type": "execute_result"
    }
   ],
   "source": [
    "mean_rates = new_rating_data.rating[new_rating_data.rating >= 4.5].groupby(new_rating_data.movieId).mean()\n",
    "    \n",
    "mean_rates"
   ]
  },
  {
   "cell_type": "code",
   "execution_count": 14,
   "id": "363bf32f",
   "metadata": {},
   "outputs": [
    {
     "data": {
      "text/plain": [
       "movieId\n",
       "5      5.0\n",
       "14     5.0\n",
       "22     5.0\n",
       "44     5.0\n",
       "79     5.0\n",
       "95     5.0\n",
       "135    5.0\n",
       "140    5.0\n",
       "160    5.0\n",
       "196    5.0\n",
       "203    5.0\n",
       "204    5.0\n",
       "207    5.0\n",
       "222    5.0\n",
       "224    5.0\n",
       "236    5.0\n",
       "237    5.0\n",
       "252    5.0\n",
       "273    5.0\n",
       "276    5.0\n",
       "Name: rating, dtype: float64"
      ]
     },
     "execution_count": 14,
     "metadata": {},
     "output_type": "execute_result"
    }
   ],
   "source": [
    "lager = mean_rates.nlargest(20)   \n",
    "lager"
   ]
  },
  {
   "cell_type": "code",
   "execution_count": 15,
   "id": "f9304760",
   "metadata": {},
   "outputs": [
    {
     "data": {
      "image/png": "[encoded data removed]",
      "text/plain": [
       "<Figure size 640x480 with 1 Axes>"
      ]
     },
     "metadata": {},
     "output_type": "display_data"
    }
   ],
   "source": [
    "plt.bar(lager.index, lager.values)\n",
    "plt.xticks(rotation=90)\n",
    "plt.xlabel('Movie ids')\n",
    "plt.ylabel('Avg rate')\n",
    "plt.show()"
   ]
  },
  {
   "cell_type": "markdown",
   "id": "852efaaa",
   "metadata": {},
   "source": [
    "### Spliting Dataset"
   ]
  },
  {
   "cell_type": "code",
   "execution_count": 16,
   "id": "9fd91baf",
   "metadata": {},
   "outputs": [],
   "source": [
    "X_train, X_test = train_test_split(new_rating_data,test_size=0.10, shuffle=True, random_state=2018)\n",
    "X_validation, X_test = train_test_split(X_test,test_size=0.50, shuffle=True, random_state=2018)"
   ]
  },
  {
   "cell_type": "code",
   "execution_count": 17,
   "id": "838e5591",
   "metadata": {},
   "outputs": [
    {
     "name": "stdout",
     "output_type": "stream",
     "text": [
      "Shape of train set: (81191, 6)\n",
      "Shape of validation set: (4511, 6)\n",
      "Shape of test set:  (4511, 6)\n"
     ]
    }
   ],
   "source": [
    "print('Shape of train set:', X_train.shape)\n",
    "print('Shape of validation set:',X_validation.shape)\n",
    "print('Shape of test set: ',X_test.shape)"
   ]
  },
  {
   "cell_type": "markdown",
   "id": "1a7811dc",
   "metadata": {},
   "source": [
    "### Train and Process"
   ]
  },
  {
   "cell_type": "code",
   "execution_count": 18,
   "id": "b9c9ff1a",
   "metadata": {},
   "outputs": [],
   "source": [
    "n_latent_factors = 1\n",
    "user_input = Input(shape=[1], name='user')\n",
    "user_embedding = Embedding(input_dim=n_users + 1, output_dim=n_latent_factors,\n",
    "name='user_embedding')(user_input)\n",
    "user_vec = Flatten(name='flatten_users')(user_embedding)\n",
    "movie_input = Input(shape=[1], name='movie')\n",
    "movie_embedding = Embedding(input_dim=n_movies + 1,\n",
    "output_dim=n_latent_factors,\n",
    "name='movie_embedding')(movie_input)\n",
    "movie_vec = Flatten(name='flatten_movies')(movie_embedding)\n",
    "product = dot([movie_vec, user_vec], axes=1)\n",
    "model = Model(inputs=[user_input, movie_input], outputs=product)\n",
    "model.compile('adam', 'mean_squared_error')\n"
   ]
  },
  {
   "cell_type": "code",
   "execution_count": 19,
   "id": "2525a18a",
   "metadata": {},
   "outputs": [
    {
     "name": "stdout",
     "output_type": "stream",
     "text": [
      "Epoch 1/100\n",
      "\u001b[1m2538/2538\u001b[0m \u001b[32m━━━━━━━━━━━━━━━━━━━━\u001b[0m\u001b[37m\u001b[0m \u001b[1m12s\u001b[0m 4ms/step - loss: 13.9428 - val_loss: 11.4965\n",
      "Epoch 2/100\n",
      "\u001b[1m2538/2538\u001b[0m \u001b[32m━━━━━━━━━━━━━━━━━━━━\u001b[0m\u001b[37m\u001b[0m \u001b[1m9s\u001b[0m 3ms/step - loss: 10.0998 - val_loss: 6.1755\n",
      "Epoch 3/100\n",
      "\u001b[1m2538/2538\u001b[0m \u001b[32m━━━━━━━━━━━━━━━━━━━━\u001b[0m\u001b[37m\u001b[0m \u001b[1m9s\u001b[0m 3ms/step - loss: 5.2236 - val_loss: 3.2464\n",
      "Epoch 4/100\n",
      "\u001b[1m2538/2538\u001b[0m \u001b[32m━━━━━━━━━━━━━━━━━━━━\u001b[0m\u001b[37m\u001b[0m \u001b[1m9s\u001b[0m 3ms/step - loss: 2.8044 - val_loss: 2.0216\n",
      "Epoch 5/100\n",
      "\u001b[1m2538/2538\u001b[0m \u001b[32m━━━━━━━━━━━━━━━━━━━━\u001b[0m\u001b[37m\u001b[0m \u001b[1m9s\u001b[0m 3ms/step - loss: 1.7724 - val_loss: 1.4284\n",
      "Epoch 6/100\n",
      "\u001b[1m2538/2538\u001b[0m \u001b[32m━━━━━━━━━━━━━━━━━━━━\u001b[0m\u001b[37m\u001b[0m \u001b[1m9s\u001b[0m 4ms/step - loss: 1.2560 - val_loss: 1.1303\n",
      "Epoch 7/100\n",
      "\u001b[1m2538/2538\u001b[0m \u001b[32m━━━━━━━━━━━━━━━━━━━━\u001b[0m\u001b[37m\u001b[0m \u001b[1m9s\u001b[0m 3ms/step - loss: 1.0034 - val_loss: 0.9758\n",
      "Epoch 8/100\n",
      "\u001b[1m2538/2538\u001b[0m \u001b[32m━━━━━━━━━━━━━━━━━━━━\u001b[0m\u001b[37m\u001b[0m \u001b[1m9s\u001b[0m 4ms/step - loss: 0.8728 - val_loss: 0.8945\n",
      "Epoch 9/100\n",
      "\u001b[1m2538/2538\u001b[0m \u001b[32m━━━━━━━━━━━━━━━━━━━━\u001b[0m\u001b[37m\u001b[0m \u001b[1m11s\u001b[0m 4ms/step - loss: 0.7967 - val_loss: 0.8509\n",
      "Epoch 10/100\n",
      "\u001b[1m2538/2538\u001b[0m \u001b[32m━━━━━━━━━━━━━━━━━━━━\u001b[0m\u001b[37m\u001b[0m \u001b[1m9s\u001b[0m 4ms/step - loss: 0.7591 - val_loss: 0.8268\n",
      "Epoch 11/100\n",
      "\u001b[1m2538/2538\u001b[0m \u001b[32m━━━━━━━━━━━━━━━━━━━━\u001b[0m\u001b[37m\u001b[0m \u001b[1m9s\u001b[0m 4ms/step - loss: 0.7511 - val_loss: 0.8139\n",
      "Epoch 12/100\n",
      "\u001b[1m2538/2538\u001b[0m \u001b[32m━━━━━━━━━━━━━━━━━━━━\u001b[0m\u001b[37m\u001b[0m \u001b[1m10s\u001b[0m 4ms/step - loss: 0.7412 - val_loss: 0.8057\n",
      "Epoch 13/100\n",
      "\u001b[1m2538/2538\u001b[0m \u001b[32m━━━━━━━━━━━━━━━━━━━━\u001b[0m\u001b[37m\u001b[0m \u001b[1m9s\u001b[0m 4ms/step - loss: 0.7327 - val_loss: 0.8046\n",
      "Epoch 14/100\n",
      "\u001b[1m2538/2538\u001b[0m \u001b[32m━━━━━━━━━━━━━━━━━━━━\u001b[0m\u001b[37m\u001b[0m \u001b[1m9s\u001b[0m 4ms/step - loss: 0.7304 - val_loss: 0.8018\n",
      "Epoch 15/100\n",
      "\u001b[1m2538/2538\u001b[0m \u001b[32m━━━━━━━━━━━━━━━━━━━━\u001b[0m\u001b[37m\u001b[0m \u001b[1m9s\u001b[0m 4ms/step - loss: 0.7234 - val_loss: 0.8004\n",
      "Epoch 16/100\n",
      "\u001b[1m2538/2538\u001b[0m \u001b[32m━━━━━━━━━━━━━━━━━━━━\u001b[0m\u001b[37m\u001b[0m \u001b[1m9s\u001b[0m 4ms/step - loss: 0.7323 - val_loss: 0.7996\n",
      "Epoch 17/100\n",
      "\u001b[1m2538/2538\u001b[0m \u001b[32m━━━━━━━━━━━━━━━━━━━━\u001b[0m\u001b[37m\u001b[0m \u001b[1m9s\u001b[0m 4ms/step - loss: 0.7292 - val_loss: 0.7995\n",
      "Epoch 18/100\n",
      "\u001b[1m2538/2538\u001b[0m \u001b[32m━━━━━━━━━━━━━━━━━━━━\u001b[0m\u001b[37m\u001b[0m \u001b[1m10s\u001b[0m 4ms/step - loss: 0.7237 - val_loss: 0.7989\n",
      "Epoch 19/100\n",
      "\u001b[1m2538/2538\u001b[0m \u001b[32m━━━━━━━━━━━━━━━━━━━━\u001b[0m\u001b[37m\u001b[0m \u001b[1m10s\u001b[0m 4ms/step - loss: 0.7198 - val_loss: 0.7982\n",
      "Epoch 20/100\n",
      "\u001b[1m2538/2538\u001b[0m \u001b[32m━━━━━━━━━━━━━━━━━━━━\u001b[0m\u001b[37m\u001b[0m \u001b[1m10s\u001b[0m 4ms/step - loss: 0.7259 - val_loss: 0.7978\n",
      "Epoch 21/100\n",
      "\u001b[1m2538/2538\u001b[0m \u001b[32m━━━━━━━━━━━━━━━━━━━━\u001b[0m\u001b[37m\u001b[0m \u001b[1m10s\u001b[0m 4ms/step - loss: 0.7188 - val_loss: 0.7977\n",
      "Epoch 22/100\n",
      "\u001b[1m2538/2538\u001b[0m \u001b[32m━━━━━━━━━━━━━━━━━━━━\u001b[0m\u001b[37m\u001b[0m \u001b[1m10s\u001b[0m 4ms/step - loss: 0.7231 - val_loss: 0.7966\n",
      "Epoch 23/100\n",
      "\u001b[1m2538/2538\u001b[0m \u001b[32m━━━━━━━━━━━━━━━━━━━━\u001b[0m\u001b[37m\u001b[0m \u001b[1m10s\u001b[0m 4ms/step - loss: 0.7309 - val_loss: 0.7986\n",
      "Epoch 24/100\n",
      "\u001b[1m2538/2538\u001b[0m \u001b[32m━━━━━━━━━━━━━━━━━━━━\u001b[0m\u001b[37m\u001b[0m \u001b[1m10s\u001b[0m 4ms/step - loss: 0.7215 - val_loss: 0.7990\n",
      "Epoch 25/100\n",
      "\u001b[1m2538/2538\u001b[0m \u001b[32m━━━━━━━━━━━━━━━━━━━━\u001b[0m\u001b[37m\u001b[0m \u001b[1m10s\u001b[0m 4ms/step - loss: 0.7277 - val_loss: 0.7983\n",
      "Epoch 26/100\n",
      "\u001b[1m2538/2538\u001b[0m \u001b[32m━━━━━━━━━━━━━━━━━━━━\u001b[0m\u001b[37m\u001b[0m \u001b[1m11s\u001b[0m 4ms/step - loss: 0.7271 - val_loss: 0.7997\n",
      "Epoch 27/100\n",
      "\u001b[1m2538/2538\u001b[0m \u001b[32m━━━━━━━━━━━━━━━━━━━━\u001b[0m\u001b[37m\u001b[0m \u001b[1m10s\u001b[0m 4ms/step - loss: 0.7244 - val_loss: 0.7978\n",
      "Epoch 28/100\n",
      "\u001b[1m2538/2538\u001b[0m \u001b[32m━━━━━━━━━━━━━━━━━━━━\u001b[0m\u001b[37m\u001b[0m \u001b[1m10s\u001b[0m 4ms/step - loss: 0.7215 - val_loss: 0.7981\n",
      "Epoch 29/100\n",
      "\u001b[1m2538/2538\u001b[0m \u001b[32m━━━━━━━━━━━━━━━━━━━━\u001b[0m\u001b[37m\u001b[0m \u001b[1m10s\u001b[0m 4ms/step - loss: 0.7226 - val_loss: 0.7970\n",
      "Epoch 30/100\n",
      "\u001b[1m2538/2538\u001b[0m \u001b[32m━━━━━━━━━━━━━━━━━━━━\u001b[0m\u001b[37m\u001b[0m \u001b[1m10s\u001b[0m 4ms/step - loss: 0.7229 - val_loss: 0.7978\n",
      "Epoch 31/100\n",
      "\u001b[1m2538/2538\u001b[0m \u001b[32m━━━━━━━━━━━━━━━━━━━━\u001b[0m\u001b[37m\u001b[0m \u001b[1m10s\u001b[0m 4ms/step - loss: 0.7247 - val_loss: 0.7975\n",
      "Epoch 32/100\n",
      "\u001b[1m2538/2538\u001b[0m \u001b[32m━━━━━━━━━━━━━━━━━━━━\u001b[0m\u001b[37m\u001b[0m \u001b[1m10s\u001b[0m 4ms/step - loss: 0.7199 - val_loss: 0.7991\n",
      "Epoch 33/100\n",
      "\u001b[1m2538/2538\u001b[0m \u001b[32m━━━━━━━━━━━━━━━━━━━━\u001b[0m\u001b[37m\u001b[0m \u001b[1m10s\u001b[0m 4ms/step - loss: 0.7265 - val_loss: 0.7984\n",
      "Epoch 34/100\n",
      "\u001b[1m2538/2538\u001b[0m \u001b[32m━━━━━━━━━━━━━━━━━━━━\u001b[0m\u001b[37m\u001b[0m \u001b[1m10s\u001b[0m 4ms/step - loss: 0.7240 - val_loss: 0.7980\n",
      "Epoch 35/100\n",
      "\u001b[1m2538/2538\u001b[0m \u001b[32m━━━━━━━━━━━━━━━━━━━━\u001b[0m\u001b[37m\u001b[0m \u001b[1m10s\u001b[0m 4ms/step - loss: 0.7214 - val_loss: 0.7987\n",
      "Epoch 36/100\n",
      "\u001b[1m2538/2538\u001b[0m \u001b[32m━━━━━━━━━━━━━━━━━━━━\u001b[0m\u001b[37m\u001b[0m \u001b[1m10s\u001b[0m 4ms/step - loss: 0.7195 - val_loss: 0.7991\n",
      "Epoch 37/100\n",
      "\u001b[1m2538/2538\u001b[0m \u001b[32m━━━━━━━━━━━━━━━━━━━━\u001b[0m\u001b[37m\u001b[0m \u001b[1m10s\u001b[0m 4ms/step - loss: 0.7236 - val_loss: 0.7973\n",
      "Epoch 38/100\n",
      "\u001b[1m2538/2538\u001b[0m \u001b[32m━━━━━━━━━━━━━━━━━━━━\u001b[0m\u001b[37m\u001b[0m \u001b[1m10s\u001b[0m 4ms/step - loss: 0.7227 - val_loss: 0.7980\n",
      "Epoch 39/100\n",
      "\u001b[1m2538/2538\u001b[0m \u001b[32m━━━━━━━━━━━━━━━━━━━━\u001b[0m\u001b[37m\u001b[0m \u001b[1m10s\u001b[0m 4ms/step - loss: 0.7255 - val_loss: 0.7979\n",
      "Epoch 40/100\n",
      "\u001b[1m2538/2538\u001b[0m \u001b[32m━━━━━━━━━━━━━━━━━━━━\u001b[0m\u001b[37m\u001b[0m \u001b[1m10s\u001b[0m 4ms/step - loss: 0.7258 - val_loss: 0.7995\n",
      "Epoch 41/100\n",
      "\u001b[1m2538/2538\u001b[0m \u001b[32m━━━━━━━━━━━━━━━━━━━━\u001b[0m\u001b[37m\u001b[0m \u001b[1m10s\u001b[0m 4ms/step - loss: 0.7195 - val_loss: 0.7982\n",
      "Epoch 42/100\n",
      "\u001b[1m2538/2538\u001b[0m \u001b[32m━━━━━━━━━━━━━━━━━━━━\u001b[0m\u001b[37m\u001b[0m \u001b[1m10s\u001b[0m 4ms/step - loss: 0.7325 - val_loss: 0.7984\n",
      "Epoch 43/100\n",
      "\u001b[1m2538/2538\u001b[0m \u001b[32m━━━━━━━━━━━━━━━━━━━━\u001b[0m\u001b[37m\u001b[0m \u001b[1m10s\u001b[0m 4ms/step - loss: 0.7223 - val_loss: 0.7980\n",
      "Epoch 44/100\n",
      "\u001b[1m2538/2538\u001b[0m \u001b[32m━━━━━━━━━━━━━━━━━━━━\u001b[0m\u001b[37m\u001b[0m \u001b[1m10s\u001b[0m 4ms/step - loss: 0.7255 - val_loss: 0.7975\n",
      "Epoch 45/100\n",
      "\u001b[1m2538/2538\u001b[0m \u001b[32m━━━━━━━━━━━━━━━━━━━━\u001b[0m\u001b[37m\u001b[0m \u001b[1m10s\u001b[0m 4ms/step - loss: 0.7260 - val_loss: 0.7974\n",
      "Epoch 46/100\n",
      "\u001b[1m2538/2538\u001b[0m \u001b[32m━━━━━━━━━━━━━━━━━━━━\u001b[0m\u001b[37m\u001b[0m \u001b[1m10s\u001b[0m 4ms/step - loss: 0.7235 - val_loss: 0.7981\n",
      "Epoch 47/100\n",
      "\u001b[1m2538/2538\u001b[0m \u001b[32m━━━━━━━━━━━━━━━━━━━━\u001b[0m\u001b[37m\u001b[0m \u001b[1m10s\u001b[0m 4ms/step - loss: 0.7185 - val_loss: 0.7992\n",
      "Epoch 48/100\n",
      "\u001b[1m2538/2538\u001b[0m \u001b[32m━━━━━━━━━━━━━━━━━━━━\u001b[0m\u001b[37m\u001b[0m \u001b[1m10s\u001b[0m 4ms/step - loss: 0.7164 - val_loss: 0.7990\n",
      "Epoch 49/100\n",
      "\u001b[1m2538/2538\u001b[0m \u001b[32m━━━━━━━━━━━━━━━━━━━━\u001b[0m\u001b[37m\u001b[0m \u001b[1m11s\u001b[0m 4ms/step - loss: 0.7199 - val_loss: 0.7977\n",
      "Epoch 50/100\n",
      "\u001b[1m2538/2538\u001b[0m \u001b[32m━━━━━━━━━━━━━━━━━━━━\u001b[0m\u001b[37m\u001b[0m \u001b[1m10s\u001b[0m 4ms/step - loss: 0.7243 - val_loss: 0.7994\n",
      "Epoch 51/100\n",
      "\u001b[1m2538/2538\u001b[0m \u001b[32m━━━━━━━━━━━━━━━━━━━━\u001b[0m\u001b[37m\u001b[0m \u001b[1m11s\u001b[0m 4ms/step - loss: 0.7255 - val_loss: 0.7985\n",
      "Epoch 52/100\n",
      "\u001b[1m2538/2538\u001b[0m \u001b[32m━━━━━━━━━━━━━━━━━━━━\u001b[0m\u001b[37m\u001b[0m \u001b[1m11s\u001b[0m 4ms/step - loss: 0.7204 - val_loss: 0.7981\n",
      "Epoch 53/100\n",
      "\u001b[1m2538/2538\u001b[0m \u001b[32m━━━━━━━━━━━━━━━━━━━━\u001b[0m\u001b[37m\u001b[0m \u001b[1m10s\u001b[0m 4ms/step - loss: 0.7155 - val_loss: 0.7980\n",
      "Epoch 54/100\n",
      "\u001b[1m2538/2538\u001b[0m \u001b[32m━━━━━━━━━━━━━━━━━━━━\u001b[0m\u001b[37m\u001b[0m \u001b[1m11s\u001b[0m 4ms/step - loss: 0.7209 - val_loss: 0.7982\n",
      "Epoch 55/100\n",
      "\u001b[1m2538/2538\u001b[0m \u001b[32m━━━━━━━━━━━━━━━━━━━━\u001b[0m\u001b[37m\u001b[0m \u001b[1m20s\u001b[0m 4ms/step - loss: 0.7290 - val_loss: 0.7988\n",
      "Epoch 56/100\n",
      "\u001b[1m2538/2538\u001b[0m \u001b[32m━━━━━━━━━━━━━━━━━━━━\u001b[0m\u001b[37m\u001b[0m \u001b[1m10s\u001b[0m 4ms/step - loss: 0.7273 - val_loss: 0.7984\n",
      "Epoch 57/100\n",
      "\u001b[1m2538/2538\u001b[0m \u001b[32m━━━━━━━━━━━━━━━━━━━━\u001b[0m\u001b[37m\u001b[0m \u001b[1m11s\u001b[0m 4ms/step - loss: 0.7207 - val_loss: 0.7980\n",
      "Epoch 58/100\n",
      "\u001b[1m2538/2538\u001b[0m \u001b[32m━━━━━━━━━━━━━━━━━━━━\u001b[0m\u001b[37m\u001b[0m \u001b[1m11s\u001b[0m 4ms/step - loss: 0.7224 - val_loss: 0.7971\n",
      "Epoch 59/100\n",
      "\u001b[1m2538/2538\u001b[0m \u001b[32m━━━━━━━━━━━━━━━━━━━━\u001b[0m\u001b[37m\u001b[0m \u001b[1m11s\u001b[0m 4ms/step - loss: 0.7250 - val_loss: 0.7980\n",
      "Epoch 60/100\n",
      "\u001b[1m2538/2538\u001b[0m \u001b[32m━━━━━━━━━━━━━━━━━━━━\u001b[0m\u001b[37m\u001b[0m \u001b[1m11s\u001b[0m 4ms/step - loss: 0.7200 - val_loss: 0.7977\n",
      "Epoch 61/100\n",
      "\u001b[1m2538/2538\u001b[0m \u001b[32m━━━━━━━━━━━━━━━━━━━━\u001b[0m\u001b[37m\u001b[0m \u001b[1m11s\u001b[0m 4ms/step - loss: 0.7129 - val_loss: 0.7970\n",
      "Epoch 62/100\n",
      "\u001b[1m2538/2538\u001b[0m \u001b[32m━━━━━━━━━━━━━━━━━━━━\u001b[0m\u001b[37m\u001b[0m \u001b[1m11s\u001b[0m 4ms/step - loss: 0.7235 - val_loss: 0.7978\n",
      "Epoch 63/100\n",
      "\u001b[1m2538/2538\u001b[0m \u001b[32m━━━━━━━━━━━━━━━━━━━━\u001b[0m\u001b[37m\u001b[0m \u001b[1m11s\u001b[0m 4ms/step - loss: 0.7263 - val_loss: 0.7968\n",
      "Epoch 64/100\n",
      "\u001b[1m2538/2538\u001b[0m \u001b[32m━━━━━━━━━━━━━━━━━━━━\u001b[0m\u001b[37m\u001b[0m \u001b[1m21s\u001b[0m 4ms/step - loss: 0.7286 - val_loss: 0.7973\n",
      "Epoch 65/100\n",
      "\u001b[1m2538/2538\u001b[0m \u001b[32m━━━━━━━━━━━━━━━━━━━━\u001b[0m\u001b[37m\u001b[0m \u001b[1m19s\u001b[0m 4ms/step - loss: 0.7305 - val_loss: 0.7995\n",
      "Epoch 66/100\n"
     ]
    },
    {
     "name": "stdout",
     "output_type": "stream",
     "text": [
      "\u001b[1m2538/2538\u001b[0m \u001b[32m━━━━━━━━━━━━━━━━━━━━\u001b[0m\u001b[37m\u001b[0m \u001b[1m9s\u001b[0m 3ms/step - loss: 0.7264 - val_loss: 0.7986\n",
      "Epoch 67/100\n",
      "\u001b[1m2538/2538\u001b[0m \u001b[32m━━━━━━━━━━━━━━━━━━━━\u001b[0m\u001b[37m\u001b[0m \u001b[1m9s\u001b[0m 3ms/step - loss: 0.7174 - val_loss: 0.7974\n",
      "Epoch 68/100\n",
      "\u001b[1m2538/2538\u001b[0m \u001b[32m━━━━━━━━━━━━━━━━━━━━\u001b[0m\u001b[37m\u001b[0m \u001b[1m9s\u001b[0m 3ms/step - loss: 0.7212 - val_loss: 0.7979\n",
      "Epoch 69/100\n",
      "\u001b[1m2538/2538\u001b[0m \u001b[32m━━━━━━━━━━━━━━━━━━━━\u001b[0m\u001b[37m\u001b[0m \u001b[1m9s\u001b[0m 3ms/step - loss: 0.7231 - val_loss: 0.7972\n",
      "Epoch 70/100\n",
      "\u001b[1m2538/2538\u001b[0m \u001b[32m━━━━━━━━━━━━━━━━━━━━\u001b[0m\u001b[37m\u001b[0m \u001b[1m9s\u001b[0m 4ms/step - loss: 0.7212 - val_loss: 0.7978\n",
      "Epoch 71/100\n",
      "\u001b[1m2538/2538\u001b[0m \u001b[32m━━━━━━━━━━━━━━━━━━━━\u001b[0m\u001b[37m\u001b[0m \u001b[1m9s\u001b[0m 3ms/step - loss: 0.7255 - val_loss: 0.7964\n",
      "Epoch 72/100\n",
      "\u001b[1m2538/2538\u001b[0m \u001b[32m━━━━━━━━━━━━━━━━━━━━\u001b[0m\u001b[37m\u001b[0m \u001b[1m9s\u001b[0m 3ms/step - loss: 0.7207 - val_loss: 0.7973\n",
      "Epoch 73/100\n",
      "\u001b[1m2538/2538\u001b[0m \u001b[32m━━━━━━━━━━━━━━━━━━━━\u001b[0m\u001b[37m\u001b[0m \u001b[1m9s\u001b[0m 3ms/step - loss: 0.7170 - val_loss: 0.7983\n",
      "Epoch 74/100\n",
      "\u001b[1m2538/2538\u001b[0m \u001b[32m━━━━━━━━━━━━━━━━━━━━\u001b[0m\u001b[37m\u001b[0m \u001b[1m9s\u001b[0m 4ms/step - loss: 0.7099 - val_loss: 0.7981\n",
      "Epoch 75/100\n",
      "\u001b[1m2538/2538\u001b[0m \u001b[32m━━━━━━━━━━━━━━━━━━━━\u001b[0m\u001b[37m\u001b[0m \u001b[1m9s\u001b[0m 4ms/step - loss: 0.7272 - val_loss: 0.7967\n",
      "Epoch 76/100\n",
      "\u001b[1m2538/2538\u001b[0m \u001b[32m━━━━━━━━━━━━━━━━━━━━\u001b[0m\u001b[37m\u001b[0m \u001b[1m9s\u001b[0m 4ms/step - loss: 0.7219 - val_loss: 0.7993\n",
      "Epoch 77/100\n",
      "\u001b[1m2538/2538\u001b[0m \u001b[32m━━━━━━━━━━━━━━━━━━━━\u001b[0m\u001b[37m\u001b[0m \u001b[1m9s\u001b[0m 3ms/step - loss: 0.7238 - val_loss: 0.7983\n",
      "Epoch 78/100\n",
      "\u001b[1m2538/2538\u001b[0m \u001b[32m━━━━━━━━━━━━━━━━━━━━\u001b[0m\u001b[37m\u001b[0m \u001b[1m9s\u001b[0m 3ms/step - loss: 0.7227 - val_loss: 0.7978\n",
      "Epoch 79/100\n",
      "\u001b[1m2538/2538\u001b[0m \u001b[32m━━━━━━━━━━━━━━━━━━━━\u001b[0m\u001b[37m\u001b[0m \u001b[1m9s\u001b[0m 4ms/step - loss: 0.7319 - val_loss: 0.7991\n",
      "Epoch 80/100\n",
      "\u001b[1m2538/2538\u001b[0m \u001b[32m━━━━━━━━━━━━━━━━━━━━\u001b[0m\u001b[37m\u001b[0m \u001b[1m9s\u001b[0m 4ms/step - loss: 0.7209 - val_loss: 0.7984\n",
      "Epoch 81/100\n",
      "\u001b[1m2538/2538\u001b[0m \u001b[32m━━━━━━━━━━━━━━━━━━━━\u001b[0m\u001b[37m\u001b[0m \u001b[1m9s\u001b[0m 4ms/step - loss: 0.7187 - val_loss: 0.7976\n",
      "Epoch 82/100\n",
      "\u001b[1m2538/2538\u001b[0m \u001b[32m━━━━━━━━━━━━━━━━━━━━\u001b[0m\u001b[37m\u001b[0m \u001b[1m9s\u001b[0m 4ms/step - loss: 0.7224 - val_loss: 0.7975\n",
      "Epoch 83/100\n",
      "\u001b[1m2538/2538\u001b[0m \u001b[32m━━━━━━━━━━━━━━━━━━━━\u001b[0m\u001b[37m\u001b[0m \u001b[1m10s\u001b[0m 4ms/step - loss: 0.7221 - val_loss: 0.7979\n",
      "Epoch 84/100\n",
      "\u001b[1m2538/2538\u001b[0m \u001b[32m━━━━━━━━━━━━━━━━━━━━\u001b[0m\u001b[37m\u001b[0m \u001b[1m9s\u001b[0m 4ms/step - loss: 0.7271 - val_loss: 0.7973\n",
      "Epoch 85/100\n",
      "\u001b[1m2538/2538\u001b[0m \u001b[32m━━━━━━━━━━━━━━━━━━━━\u001b[0m\u001b[37m\u001b[0m \u001b[1m9s\u001b[0m 4ms/step - loss: 0.7250 - val_loss: 0.7996\n",
      "Epoch 86/100\n",
      "\u001b[1m2538/2538\u001b[0m \u001b[32m━━━━━━━━━━━━━━━━━━━━\u001b[0m\u001b[37m\u001b[0m \u001b[1m9s\u001b[0m 4ms/step - loss: 0.7196 - val_loss: 0.7982\n",
      "Epoch 87/100\n",
      "\u001b[1m2538/2538\u001b[0m \u001b[32m━━━━━━━━━━━━━━━━━━━━\u001b[0m\u001b[37m\u001b[0m \u001b[1m9s\u001b[0m 4ms/step - loss: 0.7258 - val_loss: 0.7986\n",
      "Epoch 88/100\n",
      "\u001b[1m2538/2538\u001b[0m \u001b[32m━━━━━━━━━━━━━━━━━━━━\u001b[0m\u001b[37m\u001b[0m \u001b[1m9s\u001b[0m 4ms/step - loss: 0.7245 - val_loss: 0.7974\n",
      "Epoch 89/100\n",
      "\u001b[1m2538/2538\u001b[0m \u001b[32m━━━━━━━━━━━━━━━━━━━━\u001b[0m\u001b[37m\u001b[0m \u001b[1m10s\u001b[0m 4ms/step - loss: 0.7225 - val_loss: 0.7987\n",
      "Epoch 90/100\n",
      "\u001b[1m2538/2538\u001b[0m \u001b[32m━━━━━━━━━━━━━━━━━━━━\u001b[0m\u001b[37m\u001b[0m \u001b[1m9s\u001b[0m 4ms/step - loss: 0.7233 - val_loss: 0.7973\n",
      "Epoch 91/100\n",
      "\u001b[1m2538/2538\u001b[0m \u001b[32m━━━━━━━━━━━━━━━━━━━━\u001b[0m\u001b[37m\u001b[0m \u001b[1m11s\u001b[0m 4ms/step - loss: 0.7241 - val_loss: 0.7988\n",
      "Epoch 92/100\n",
      "\u001b[1m2538/2538\u001b[0m \u001b[32m━━━━━━━━━━━━━━━━━━━━\u001b[0m\u001b[37m\u001b[0m \u001b[1m10s\u001b[0m 4ms/step - loss: 0.7333 - val_loss: 0.7986\n",
      "Epoch 93/100\n",
      "\u001b[1m2538/2538\u001b[0m \u001b[32m━━━━━━━━━━━━━━━━━━━━\u001b[0m\u001b[37m\u001b[0m \u001b[1m10s\u001b[0m 4ms/step - loss: 0.7250 - val_loss: 0.7979\n",
      "Epoch 94/100\n",
      "\u001b[1m2538/2538\u001b[0m \u001b[32m━━━━━━━━━━━━━━━━━━━━\u001b[0m\u001b[37m\u001b[0m \u001b[1m10s\u001b[0m 4ms/step - loss: 0.7229 - val_loss: 0.7969\n",
      "Epoch 95/100\n",
      "\u001b[1m2538/2538\u001b[0m \u001b[32m━━━━━━━━━━━━━━━━━━━━\u001b[0m\u001b[37m\u001b[0m \u001b[1m10s\u001b[0m 4ms/step - loss: 0.7256 - val_loss: 0.7977\n",
      "Epoch 96/100\n",
      "\u001b[1m2538/2538\u001b[0m \u001b[32m━━━━━━━━━━━━━━━━━━━━\u001b[0m\u001b[37m\u001b[0m \u001b[1m10s\u001b[0m 4ms/step - loss: 0.7324 - val_loss: 0.7983\n",
      "Epoch 97/100\n",
      "\u001b[1m2538/2538\u001b[0m \u001b[32m━━━━━━━━━━━━━━━━━━━━\u001b[0m\u001b[37m\u001b[0m \u001b[1m10s\u001b[0m 4ms/step - loss: 0.7156 - val_loss: 0.7980\n",
      "Epoch 98/100\n",
      "\u001b[1m2538/2538\u001b[0m \u001b[32m━━━━━━━━━━━━━━━━━━━━\u001b[0m\u001b[37m\u001b[0m \u001b[1m10s\u001b[0m 4ms/step - loss: 0.7304 - val_loss: 0.7979\n",
      "Epoch 99/100\n",
      "\u001b[1m2538/2538\u001b[0m \u001b[32m━━━━━━━━━━━━━━━━━━━━\u001b[0m\u001b[37m\u001b[0m \u001b[1m10s\u001b[0m 4ms/step - loss: 0.7256 - val_loss: 0.7992\n",
      "Epoch 100/100\n",
      "\u001b[1m2538/2538\u001b[0m \u001b[32m━━━━━━━━━━━━━━━━━━━━\u001b[0m\u001b[37m\u001b[0m \u001b[1m10s\u001b[0m 4ms/step - loss: 0.7225 - val_loss: 0.7987\n"
     ]
    }
   ],
   "source": [
    "history = model.fit(x=[X_train.newUserId, X_train.newMovieId],\n",
    "                    y=X_train.rating, epochs=100,\n",
    "                    validation_data=([X_validation.newUserId,\n",
    "                                      X_validation.newMovieId], X_validation.rating),\n",
    "                    verbose=1)"
   ]
  },
  {
   "cell_type": "code",
   "execution_count": 20,
   "id": "b9e39311",
   "metadata": {},
   "outputs": [
    {
     "name": "stdout",
     "output_type": "stream",
     "text": [
      "Minimum MSE:  0.7964410185813904\n"
     ]
    },
    {
     "data": {
      "image/png": "[encoded data removed]",
      "text/plain": [
       "<Figure size 640x480 with 1 Axes>"
      ]
     },
     "metadata": {},
     "output_type": "display_data"
    }
   ],
   "source": [
    "pd.Series(history.history['val_loss'][10:]).plot(logy=False)\n",
    "plt.xlabel(\"Epoch\")\n",
    "plt.ylabel(\"Validation Error\")\n",
    "print('Minimum MSE: ', min(history.history['val_loss']))"
   ]
  },
  {
   "cell_type": "code",
   "execution_count": null,
   "id": "0b926492",
   "metadata": {},
   "outputs": [],
   "source": []
  }
 ],
 "metadata": {
  "kernelspec": {
   "display_name": "Python 3 (ipykernel)",
   "language": "python",
   "name": "python3"
  },
  "language_info": {
   "codemirror_mode": {
    "name": "ipython",
    "version": 3
   },
   "file_extension": ".py",
   "mimetype": "text/x-python",
   "name": "python",
   "nbconvert_exporter": "python",
   "pygments_lexer": "ipython3",
   "version": "3.11.4"
  }
 },
 "nbformat": 4,
 "nbformat_minor": 5
}
