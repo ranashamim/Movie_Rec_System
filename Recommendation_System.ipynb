{
 "cells": [
  {
   "cell_type": "markdown",
   "id": "50fc5acb",
   "metadata": {},
   "source": [
    "# Movie Recommendations"
   ]
  },
  {
   "cell_type": "markdown",
   "id": "b8098b2c",
   "metadata": {},
   "source": [
    "### Import Labraries"
   ]
  },
  {
   "cell_type": "code",
   "execution_count": 30,
   "id": "a6bac4e2",
   "metadata": {},
   "outputs": [],
   "source": [
    "import pandas as pd\n",
    "import numpy as np\n",
    "import sys\n",
    "sys.path.append('/home/hooshmand/Documents/Git/myenv/lib/python3.11/site-packages')\n",
    "import tensorflow as tf\n",
    "import matplotlib.pyplot as plt\n",
    "\n",
    "from datetime import datetime\n",
    "\n",
    "now = datetime.now()\n",
    "\n",
    "from sklearn import preprocessing as pp\n",
    "from sklearn.model_selection import train_test_split\n",
    "from sklearn.model_selection import StratifiedKFold\n",
    "from sklearn.metrics import log_loss\n",
    "from sklearn.metrics import precision_recall_curve, average_precision_score\n",
    "from sklearn.metrics import roc_curve, auc, roc_auc_score, mean_squared_error\n",
    "\n",
    "\n",
    "import tensorflow as tf\n",
    "import keras\n",
    "\n",
    "from tensorflow.keras.models import Sequential, Model\n",
    "from tensorflow.keras.layers import Activation, Dense, Dropout\n",
    "from tensorflow.keras.layers import BatchNormalization, Input, Lambda\n",
    "from tensorflow.keras.layers import Embedding, Flatten, dot\n",
    "from tensorflow.keras import regularizers\n",
    "from tensorflow.keras.losses import mse, binary_crossentropy\n"
   ]
  },
  {
   "cell_type": "markdown",
   "id": "f6ce79db",
   "metadata": {},
   "source": [
    "### Load Data"
   ]
  },
  {
   "cell_type": "code",
   "execution_count": 2,
   "id": "e5529fee",
   "metadata": {},
   "outputs": [],
   "source": [
    "rating_data = pd.read_csv('data/rating.csv')\n",
    "movie_data = pd.read_csv('data/movie.csv')"
   ]
  },
  {
   "cell_type": "code",
   "execution_count": 3,
   "id": "2a29ce81",
   "metadata": {},
   "outputs": [
    {
     "data": {
      "text/plain": [
       "(20000263, 4)"
      ]
     },
     "execution_count": 3,
     "metadata": {},
     "output_type": "execute_result"
    }
   ],
   "source": [
    "rating_data.shape\n"
   ]
  },
  {
   "cell_type": "code",
   "execution_count": 4,
   "id": "acf6b555",
   "metadata": {},
   "outputs": [
    {
     "data": {
      "text/html": [
       "<div>\n",
       "<style scoped>\n",
       "    .dataframe tbody tr th:only-of-type {\n",
       "        vertical-align: middle;\n",
       "    }\n",
       "\n",
       "    .dataframe tbody tr th {\n",
       "        vertical-align: top;\n",
       "    }\n",
       "\n",
       "    .dataframe thead th {\n",
       "        text-align: right;\n",
       "    }\n",
       "</style>\n",
       "<table border=\"1\" class=\"dataframe\">\n",
       "  <thead>\n",
       "    <tr style=\"text-align: right;\">\n",
       "      <th></th>\n",
       "      <th>userId</th>\n",
       "      <th>movieId</th>\n",
       "      <th>rating</th>\n",
       "      <th>timestamp</th>\n",
       "    </tr>\n",
       "  </thead>\n",
       "  <tbody>\n",
       "    <tr>\n",
       "      <th>0</th>\n",
       "      <td>1</td>\n",
       "      <td>2</td>\n",
       "      <td>3.5</td>\n",
       "      <td>2005-04-02 23:53:47</td>\n",
       "    </tr>\n",
       "    <tr>\n",
       "      <th>1</th>\n",
       "      <td>1</td>\n",
       "      <td>29</td>\n",
       "      <td>3.5</td>\n",
       "      <td>2005-04-02 23:31:16</td>\n",
       "    </tr>\n",
       "    <tr>\n",
       "      <th>2</th>\n",
       "      <td>1</td>\n",
       "      <td>32</td>\n",
       "      <td>3.5</td>\n",
       "      <td>2005-04-02 23:33:39</td>\n",
       "    </tr>\n",
       "    <tr>\n",
       "      <th>3</th>\n",
       "      <td>1</td>\n",
       "      <td>47</td>\n",
       "      <td>3.5</td>\n",
       "      <td>2005-04-02 23:32:07</td>\n",
       "    </tr>\n",
       "    <tr>\n",
       "      <th>4</th>\n",
       "      <td>1</td>\n",
       "      <td>50</td>\n",
       "      <td>3.5</td>\n",
       "      <td>2005-04-02 23:29:40</td>\n",
       "    </tr>\n",
       "  </tbody>\n",
       "</table>\n",
       "</div>"
      ],
      "text/plain": [
       "   userId  movieId  rating            timestamp\n",
       "0       1        2     3.5  2005-04-02 23:53:47\n",
       "1       1       29     3.5  2005-04-02 23:31:16\n",
       "2       1       32     3.5  2005-04-02 23:33:39\n",
       "3       1       47     3.5  2005-04-02 23:32:07\n",
       "4       1       50     3.5  2005-04-02 23:29:40"
      ]
     },
     "execution_count": 4,
     "metadata": {},
     "output_type": "execute_result"
    }
   ],
   "source": [
    "rating_data.head()"
   ]
  },
  {
   "cell_type": "markdown",
   "id": "585725bd",
   "metadata": {},
   "source": [
    "### Convert fields into appropriate data types"
   ]
  },
  {
   "cell_type": "code",
   "execution_count": 5,
   "id": "cb34a3e2",
   "metadata": {},
   "outputs": [],
   "source": [
    "rating_data.userId = rating_data.userId.astype(str).astype(int)\n",
    "rating_data.movieId = rating_data.movieId.astype(str).astype(int)\n",
    "rating_data.rating = rating_data.rating.astype(str).astype(float)\n",
    "rating_data.timestamp = rating_data.timestamp.apply(lambda x: now.strftime(\"%m/%d/%Y, %H:%M:%S\"))"
   ]
  },
  {
   "cell_type": "code",
   "execution_count": 6,
   "id": "8a120a4a",
   "metadata": {},
   "outputs": [],
   "source": [
    "n_users = rating_data.userId.unique().shape[0]\n",
    "n_movies = rating_data.movieId.unique().shape[0]\n",
    "max_rate = rating_data.rating.max()\n",
    "min_rate = rating_data.rating.min()\n",
    "n_rates_firstMovie = rating_data.movieId[rating_data.movieId==1].groupby(rating_data.rating).count()\n",
    "mean_rates_firstMovie = rating_data.rating[rating_data.movieId==1].mean()"
   ]
  },
  {
   "cell_type": "code",
   "execution_count": 7,
   "id": "de6f4531",
   "metadata": {},
   "outputs": [
    {
     "name": "stdout",
     "output_type": "stream",
     "text": [
      "Number of users:  138493\n",
      "Number of movies:  26744\n",
      "Max of ratings:  5.0 , and Min of ratings:  0.5\n",
      "Rating details for the first movie: \n",
      " rating\n",
      "0.5      178\n",
      "1.0      506\n",
      "1.5      266\n",
      "2.0     1440\n",
      "2.5     1060\n",
      "3.0     8751\n",
      "3.5     4200\n",
      "4.0    17136\n",
      "4.5     3890\n",
      "5.0    12268\n",
      "Name: movieId, dtype: int64\n",
      "Average number of ratings for the first movie:  3.921239561324077\n"
     ]
    }
   ],
   "source": [
    "print('Number of users: ', n_users)\n",
    "print('Number of movies: ', n_movies)\n",
    "print('Max of ratings: ', max_rate, ', and Min of ratings: ', min_rate)\n",
    "print('Rating details for the first movie: \\n', n_rates_firstMovie)\n",
    "print('Average number of ratings for the first movie: ', mean_rates_firstMovie)"
   ]
  },
  {
   "cell_type": "markdown",
   "id": "3c2fee04",
   "metadata": {},
   "source": [
    "### Reduce size of Data"
   ]
  },
  {
   "cell_type": "code",
   "execution_count": 8,
   "id": "6557bd2c",
   "metadata": {},
   "outputs": [
    {
     "data": {
      "text/html": [
       "<div>\n",
       "<style scoped>\n",
       "    .dataframe tbody tr th:only-of-type {\n",
       "        vertical-align: middle;\n",
       "    }\n",
       "\n",
       "    .dataframe tbody tr th {\n",
       "        vertical-align: top;\n",
       "    }\n",
       "\n",
       "    .dataframe thead th {\n",
       "        text-align: right;\n",
       "    }\n",
       "</style>\n",
       "<table border=\"1\" class=\"dataframe\">\n",
       "  <thead>\n",
       "    <tr style=\"text-align: right;\">\n",
       "      <th></th>\n",
       "      <th>userId</th>\n",
       "      <th>movieId</th>\n",
       "      <th>rating</th>\n",
       "      <th>timestamp</th>\n",
       "    </tr>\n",
       "  </thead>\n",
       "  <tbody>\n",
       "    <tr>\n",
       "      <th>0</th>\n",
       "      <td>1</td>\n",
       "      <td>2</td>\n",
       "      <td>3.5</td>\n",
       "      <td>07/28/2024, 12:54:16</td>\n",
       "    </tr>\n",
       "    <tr>\n",
       "      <th>1</th>\n",
       "      <td>1</td>\n",
       "      <td>29</td>\n",
       "      <td>3.5</td>\n",
       "      <td>07/28/2024, 12:54:16</td>\n",
       "    </tr>\n",
       "    <tr>\n",
       "      <th>2</th>\n",
       "      <td>1</td>\n",
       "      <td>32</td>\n",
       "      <td>3.5</td>\n",
       "      <td>07/28/2024, 12:54:16</td>\n",
       "    </tr>\n",
       "    <tr>\n",
       "      <th>3</th>\n",
       "      <td>1</td>\n",
       "      <td>47</td>\n",
       "      <td>3.5</td>\n",
       "      <td>07/28/2024, 12:54:16</td>\n",
       "    </tr>\n",
       "    <tr>\n",
       "      <th>4</th>\n",
       "      <td>1</td>\n",
       "      <td>50</td>\n",
       "      <td>3.5</td>\n",
       "      <td>07/28/2024, 12:54:16</td>\n",
       "    </tr>\n",
       "    <tr>\n",
       "      <th>...</th>\n",
       "      <td>...</td>\n",
       "      <td>...</td>\n",
       "      <td>...</td>\n",
       "      <td>...</td>\n",
       "    </tr>\n",
       "    <tr>\n",
       "      <th>20000243</th>\n",
       "      <td>138493</td>\n",
       "      <td>53996</td>\n",
       "      <td>4.5</td>\n",
       "      <td>07/28/2024, 12:54:16</td>\n",
       "    </tr>\n",
       "    <tr>\n",
       "      <th>20000249</th>\n",
       "      <td>138493</td>\n",
       "      <td>59315</td>\n",
       "      <td>4.0</td>\n",
       "      <td>07/28/2024, 12:54:16</td>\n",
       "    </tr>\n",
       "    <tr>\n",
       "      <th>20000252</th>\n",
       "      <td>138493</td>\n",
       "      <td>60069</td>\n",
       "      <td>4.0</td>\n",
       "      <td>07/28/2024, 12:54:16</td>\n",
       "    </tr>\n",
       "    <tr>\n",
       "      <th>20000258</th>\n",
       "      <td>138493</td>\n",
       "      <td>68954</td>\n",
       "      <td>4.5</td>\n",
       "      <td>07/28/2024, 12:54:16</td>\n",
       "    </tr>\n",
       "    <tr>\n",
       "      <th>20000261</th>\n",
       "      <td>138493</td>\n",
       "      <td>70286</td>\n",
       "      <td>5.0</td>\n",
       "      <td>07/28/2024, 12:54:16</td>\n",
       "    </tr>\n",
       "  </tbody>\n",
       "</table>\n",
       "<p>12840344 rows × 4 columns</p>\n",
       "</div>"
      ],
      "text/plain": [
       "          userId  movieId  rating             timestamp\n",
       "0              1        2     3.5  07/28/2024, 12:54:16\n",
       "1              1       29     3.5  07/28/2024, 12:54:16\n",
       "2              1       32     3.5  07/28/2024, 12:54:16\n",
       "3              1       47     3.5  07/28/2024, 12:54:16\n",
       "4              1       50     3.5  07/28/2024, 12:54:16\n",
       "...          ...      ...     ...                   ...\n",
       "20000243  138493    53996     4.5  07/28/2024, 12:54:16\n",
       "20000249  138493    59315     4.0  07/28/2024, 12:54:16\n",
       "20000252  138493    60069     4.0  07/28/2024, 12:54:16\n",
       "20000258  138493    68954     4.5  07/28/2024, 12:54:16\n",
       "20000261  138493    70286     5.0  07/28/2024, 12:54:16\n",
       "\n",
       "[12840344 rows x 4 columns]"
      ]
     },
     "execution_count": 8,
     "metadata": {},
     "output_type": "execute_result"
    }
   ],
   "source": [
    "movieIndex = rating_data.groupby(\"movieId\").count().sort_values(by= \"rating\",ascending=False)[0:1000].index\n",
    "new_rating_data = rating_data[rating_data.movieId.isin(movieIndex)]\n",
    "new_rating_data"
   ]
  },
  {
   "cell_type": "code",
   "execution_count": null,
   "id": "0a50aeff",
   "metadata": {},
   "outputs": [],
   "source": []
  },
  {
   "cell_type": "markdown",
   "id": "39dec734",
   "metadata": {},
   "source": [
    "### Data Visualization"
   ]
  },
  {
   "cell_type": "code",
   "execution_count": 9,
   "id": "c5917c16",
   "metadata": {},
   "outputs": [
    {
     "data": {
      "image/png": "[encoded data removed]",
      "text/plain": [
       "<Figure size 640x480 with 1 Axes>"
      ]
     },
     "metadata": {},
     "output_type": "display_data"
    }
   ],
   "source": [
    "genres = movie_data.genres.str.split('|', expand=True).stack().value_counts()\n",
    "plt.bar(genres.index, genres.values)\n",
    "plt.xticks(rotation=90)\n",
    "plt.xlabel('Genre')\n",
    "plt.ylabel('Number of Movies')\n",
    "plt.title('Movie Genres')\n",
    "plt.show()"
   ]
  },
  {
   "cell_type": "code",
   "execution_count": 14,
   "id": "b936431f",
   "metadata": {},
   "outputs": [
    {
     "data": {
      "text/plain": [
       "movieId\n",
       "1        4.879626\n",
       "2        4.893195\n",
       "3        4.952549\n",
       "5        4.952012\n",
       "6        4.871508\n",
       "           ...   \n",
       "78499    4.744267\n",
       "79132    4.758475\n",
       "80463    4.680777\n",
       "81591    4.706482\n",
       "81845    4.694953\n",
       "Name: rating, Length: 1000, dtype: float64"
      ]
     },
     "execution_count": 14,
     "metadata": {},
     "output_type": "execute_result"
    }
   ],
   "source": [
    "mean_rates = new_rating_data.rating[new_rating_data.rating >= 4.5].groupby(new_rating_data.movieId).mean()\n",
    "    \n",
    "mean_rates"
   ]
  },
  {
   "cell_type": "code",
   "execution_count": 26,
   "id": "68f1d4c2",
   "metadata": {},
   "outputs": [
    {
     "data": {
      "text/plain": [
       "movieId\n",
       "140    4.984375\n",
       "276    4.982270\n",
       "79     4.974614\n",
       "494    4.972680\n",
       "204    4.972408\n",
       "225    4.970446\n",
       "237    4.969979\n",
       "222    4.966709\n",
       "786    4.965917\n",
       "280    4.962038\n",
       "185    4.956325\n",
       "95     4.954463\n",
       "317    4.953464\n",
       "339    4.953350\n",
       "788    4.952988\n",
       "160    4.952690\n",
       "3      4.952549\n",
       "207    4.952494\n",
       "800    4.952070\n",
       "5      4.952012\n",
       "Name: rating, dtype: float64"
      ]
     },
     "execution_count": 26,
     "metadata": {},
     "output_type": "execute_result"
    }
   ],
   "source": [
    "lager = mean_rates.nlargest(20)   \n",
    "lager"
   ]
  },
  {
   "cell_type": "code",
   "execution_count": 27,
   "id": "030a5c90",
   "metadata": {},
   "outputs": [
    {
     "data": {
      "image/png": "[encoded data removed]",
      "text/plain": [
       "<Figure size 640x480 with 1 Axes>"
      ]
     },
     "metadata": {},
     "output_type": "display_data"
    }
   ],
   "source": [
    "plt.bar(lager.index, lager.values)\n",
    "plt.xticks(rotation=90)\n",
    "plt.xlabel('Movie ids')\n",
    "plt.ylabel('Avg rate')\n",
    "plt.show()"
   ]
  },
  {
   "cell_type": "markdown",
   "id": "7818bce0",
   "metadata": {},
   "source": [
    "### Spliting Dataset"
   ]
  },
  {
   "cell_type": "code",
   "execution_count": 31,
   "id": "8f6d18bf",
   "metadata": {},
   "outputs": [],
   "source": [
    "X_train, X_test = train_test_split(new_rating_data,test_size=0.10, shuffle=True, random_state=2018)\n",
    "X_validation, X_test = train_test_split(X_test,test_size=0.50, shuffle=True, random_state=2018)"
   ]
  },
  {
   "cell_type": "code",
   "execution_count": 32,
   "id": "860522db",
   "metadata": {},
   "outputs": [
    {
     "name": "stdout",
     "output_type": "stream",
     "text": [
      "Shape of train set: (11556309, 4)\n",
      "Shape of validation set: (642017, 4)\n",
      "Shape of test set:  (642018, 4)\n"
     ]
    }
   ],
   "source": [
    "print('Shape of train set:', X_train.shape)\n",
    "print('Shape of validation set:',X_validation.shape)\n",
    "print('Shape of test set: ',X_test.shape)"
   ]
  },
  {
   "cell_type": "code",
   "execution_count": null,
   "id": "0eb22f34",
   "metadata": {},
   "outputs": [],
   "source": []
  }
 ],
 "metadata": {
  "kernelspec": {
   "display_name": "Python 3 (ipykernel)",
   "language": "python",
   "name": "python3"
  },
  "language_info": {
   "codemirror_mode": {
    "name": "ipython",
    "version": 3
   },
   "file_extension": ".py",
   "mimetype": "text/x-python",
   "name": "python",
   "nbconvert_exporter": "python",
   "pygments_lexer": "ipython3",
   "version": "3.11.4"
  }
 },
 "nbformat": 4,
 "nbformat_minor": 5
}
